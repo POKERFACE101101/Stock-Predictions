{
  "cells": [
    {
      "cell_type": "markdown",
      "metadata": {
        "id": "SbQdSTj6-A9s"
      },
      "source": [
        "## Libraries & Dataset"
      ]
    },
    {
      "cell_type": "code",
      "execution_count": 1,
      "metadata": {
        "id": "06_IudkL2ZqR"
      },
      "outputs": [],
      "source": [
        "# The Libraries used\n",
        "import torch\n",
        "import torch.nn as nn\n",
        "import warnings \n",
        "warnings.filterwarnings('ignore')\n",
        "import numpy as np\n",
        "import pandas as pd\n",
        "import matplotlib.pyplot as plt\n",
        "import seaborn as sns\n",
        "%matplotlib inline\n",
        "from google.colab import files\n",
        "import io\n",
        "from sklearn.preprocessing import MinMaxScaler"
      ]
    },
    {
      "cell_type": "code",
      "execution_count": 2,
      "metadata": {
        "colab": {
          "base_uri": "https://localhost:8080/",
          "height": 74,
          "resources": {
            "http://localhost:8080/nbextensions/google.colab/files.js": {
              "data": "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",
              "headers": [
                [
                  "content-type",
                  "application/javascript"
                ]
              ],
              "ok": true,
              "status": 200,
              "status_text": ""
            }
          }
        },
        "id": "kTt9Lm9F2vQI",
        "outputId": "3f9f71bf-b873-4b49-c6dc-efe3d56b522e"
      },
      "outputs": [
        {
          "data": {
            "text/html": [
              "\n",
              "     <input type=\"file\" id=\"files-89b82a28-13ca-49f0-984e-fcee48b32ee1\" name=\"files[]\" multiple disabled\n",
              "        style=\"border:none\" />\n",
              "     <output id=\"result-89b82a28-13ca-49f0-984e-fcee48b32ee1\">\n",
              "      Upload widget is only available when the cell has been executed in the\n",
              "      current browser session. Please rerun this cell to enable.\n",
              "      </output>\n",
              "      <script src=\"/nbextensions/google.colab/files.js\"></script> "
            ],
            "text/plain": [
              "<IPython.core.display.HTML object>"
            ]
          },
          "metadata": {},
          "output_type": "display_data"
        },
        {
          "name": "stdout",
          "output_type": "stream",
          "text": [
            "Saving Amazon_Stock_2006-01-01_to_2018-01-01.csv to Amazon_Stock_2006-01-01_to_2018-01-01.csv\n"
          ]
        }
      ],
      "source": [
        "data=files.upload()"
      ]
    },
    {
      "cell_type": "code",
      "execution_count": 3,
      "metadata": {
        "id": "abht0Gr33m-P"
      },
      "outputs": [],
      "source": [
        "df=pd.read_csv(io.StringIO(data['Amazon_Stock_2006-01-01_to_2018-01-01.csv'].decode('utf-8'))) # Reading the CSV File "
      ]
    },
    {
      "cell_type": "code",
      "execution_count": 4,
      "metadata": {
        "colab": {
          "base_uri": "https://localhost:8080/",
          "height": 206
        },
        "id": "TfyEm6fj3zr6",
        "outputId": "a67673e9-c216-40f7-8649-6fee3c7a0da8"
      },
      "outputs": [
        {
          "data": {
            "text/html": [
              "\n",
              "  <div id=\"df-5819d289-f977-498f-a223-4ce7ef2ce996\">\n",
              "    <div class=\"colab-df-container\">\n",
              "      <div>\n",
              "<style scoped>\n",
              "    .dataframe tbody tr th:only-of-type {\n",
              "        vertical-align: middle;\n",
              "    }\n",
              "\n",
              "    .dataframe tbody tr th {\n",
              "        vertical-align: top;\n",
              "    }\n",
              "\n",
              "    .dataframe thead th {\n",
              "        text-align: right;\n",
              "    }\n",
              "</style>\n",
              "<table border=\"1\" class=\"dataframe\">\n",
              "  <thead>\n",
              "    <tr style=\"text-align: right;\">\n",
              "      <th></th>\n",
              "      <th>Date</th>\n",
              "      <th>Open</th>\n",
              "      <th>High</th>\n",
              "      <th>Low</th>\n",
              "      <th>Close</th>\n",
              "      <th>Volume</th>\n",
              "      <th>Name</th>\n",
              "    </tr>\n",
              "  </thead>\n",
              "  <tbody>\n",
              "    <tr>\n",
              "      <th>0</th>\n",
              "      <td>2006-01-03</td>\n",
              "      <td>47.47</td>\n",
              "      <td>47.85</td>\n",
              "      <td>46.25</td>\n",
              "      <td>47.58</td>\n",
              "      <td>7582127</td>\n",
              "      <td>AMZN</td>\n",
              "    </tr>\n",
              "    <tr>\n",
              "      <th>1</th>\n",
              "      <td>2006-01-04</td>\n",
              "      <td>47.48</td>\n",
              "      <td>47.73</td>\n",
              "      <td>46.69</td>\n",
              "      <td>47.25</td>\n",
              "      <td>7440914</td>\n",
              "      <td>AMZN</td>\n",
              "    </tr>\n",
              "    <tr>\n",
              "      <th>2</th>\n",
              "      <td>2006-01-05</td>\n",
              "      <td>47.16</td>\n",
              "      <td>48.20</td>\n",
              "      <td>47.11</td>\n",
              "      <td>47.65</td>\n",
              "      <td>5417258</td>\n",
              "      <td>AMZN</td>\n",
              "    </tr>\n",
              "    <tr>\n",
              "      <th>3</th>\n",
              "      <td>2006-01-06</td>\n",
              "      <td>47.97</td>\n",
              "      <td>48.58</td>\n",
              "      <td>47.32</td>\n",
              "      <td>47.87</td>\n",
              "      <td>6154285</td>\n",
              "      <td>AMZN</td>\n",
              "    </tr>\n",
              "    <tr>\n",
              "      <th>4</th>\n",
              "      <td>2006-01-09</td>\n",
              "      <td>46.55</td>\n",
              "      <td>47.10</td>\n",
              "      <td>46.40</td>\n",
              "      <td>47.08</td>\n",
              "      <td>8945056</td>\n",
              "      <td>AMZN</td>\n",
              "    </tr>\n",
              "  </tbody>\n",
              "</table>\n",
              "</div>\n",
              "      <button class=\"colab-df-convert\" onclick=\"convertToInteractive('df-5819d289-f977-498f-a223-4ce7ef2ce996')\"\n",
              "              title=\"Convert this dataframe to an interactive table.\"\n",
              "              style=\"display:none;\">\n",
              "        \n",
              "  <svg xmlns=\"http://www.w3.org/2000/svg\" height=\"24px\"viewBox=\"0 0 24 24\"\n",
              "       width=\"24px\">\n",
              "    <path d=\"M0 0h24v24H0V0z\" fill=\"none\"/>\n",
              "    <path d=\"M18.56 5.44l.94 2.06.94-2.06 2.06-.94-2.06-.94-.94-2.06-.94 2.06-2.06.94zm-11 1L8.5 8.5l.94-2.06 2.06-.94-2.06-.94L8.5 2.5l-.94 2.06-2.06.94zm10 10l.94 2.06.94-2.06 2.06-.94-2.06-.94-.94-2.06-.94 2.06-2.06.94z\"/><path d=\"M17.41 7.96l-1.37-1.37c-.4-.4-.92-.59-1.43-.59-.52 0-1.04.2-1.43.59L10.3 9.45l-7.72 7.72c-.78.78-.78 2.05 0 2.83L4 21.41c.39.39.9.59 1.41.59.51 0 1.02-.2 1.41-.59l7.78-7.78 2.81-2.81c.8-.78.8-2.07 0-2.86zM5.41 20L4 18.59l7.72-7.72 1.47 1.35L5.41 20z\"/>\n",
              "  </svg>\n",
              "      </button>\n",
              "      \n",
              "  <style>\n",
              "    .colab-df-container {\n",
              "      display:flex;\n",
              "      flex-wrap:wrap;\n",
              "      gap: 12px;\n",
              "    }\n",
              "\n",
              "    .colab-df-convert {\n",
              "      background-color: #E8F0FE;\n",
              "      border: none;\n",
              "      border-radius: 50%;\n",
              "      cursor: pointer;\n",
              "      display: none;\n",
              "      fill: #1967D2;\n",
              "      height: 32px;\n",
              "      padding: 0 0 0 0;\n",
              "      width: 32px;\n",
              "    }\n",
              "\n",
              "    .colab-df-convert:hover {\n",
              "      background-color: #E2EBFA;\n",
              "      box-shadow: 0px 1px 2px rgba(60, 64, 67, 0.3), 0px 1px 3px 1px rgba(60, 64, 67, 0.15);\n",
              "      fill: #174EA6;\n",
              "    }\n",
              "\n",
              "    [theme=dark] .colab-df-convert {\n",
              "      background-color: #3B4455;\n",
              "      fill: #D2E3FC;\n",
              "    }\n",
              "\n",
              "    [theme=dark] .colab-df-convert:hover {\n",
              "      background-color: #434B5C;\n",
              "      box-shadow: 0px 1px 3px 1px rgba(0, 0, 0, 0.15);\n",
              "      filter: drop-shadow(0px 1px 2px rgba(0, 0, 0, 0.3));\n",
              "      fill: #FFFFFF;\n",
              "    }\n",
              "  </style>\n",
              "\n",
              "      <script>\n",
              "        const buttonEl =\n",
              "          document.querySelector('#df-5819d289-f977-498f-a223-4ce7ef2ce996 button.colab-df-convert');\n",
              "        buttonEl.style.display =\n",
              "          google.colab.kernel.accessAllowed ? 'block' : 'none';\n",
              "\n",
              "        async function convertToInteractive(key) {\n",
              "          const element = document.querySelector('#df-5819d289-f977-498f-a223-4ce7ef2ce996');\n",
              "          const dataTable =\n",
              "            await google.colab.kernel.invokeFunction('convertToInteractive',\n",
              "                                                     [key], {});\n",
              "          if (!dataTable) return;\n",
              "\n",
              "          const docLinkHtml = 'Like what you see? Visit the ' +\n",
              "            '<a target=\"_blank\" href=https://colab.research.google.com/notebooks/data_table.ipynb>data table notebook</a>'\n",
              "            + ' to learn more about interactive tables.';\n",
              "          element.innerHTML = '';\n",
              "          dataTable['output_type'] = 'display_data';\n",
              "          await google.colab.output.renderOutput(dataTable, element);\n",
              "          const docLink = document.createElement('div');\n",
              "          docLink.innerHTML = docLinkHtml;\n",
              "          element.appendChild(docLink);\n",
              "        }\n",
              "      </script>\n",
              "    </div>\n",
              "  </div>\n",
              "  "
            ],
            "text/plain": [
              "         Date   Open   High    Low  Close   Volume  Name\n",
              "0  2006-01-03  47.47  47.85  46.25  47.58  7582127  AMZN\n",
              "1  2006-01-04  47.48  47.73  46.69  47.25  7440914  AMZN\n",
              "2  2006-01-05  47.16  48.20  47.11  47.65  5417258  AMZN\n",
              "3  2006-01-06  47.97  48.58  47.32  47.87  6154285  AMZN\n",
              "4  2006-01-09  46.55  47.10  46.40  47.08  8945056  AMZN"
            ]
          },
          "execution_count": 4,
          "metadata": {},
          "output_type": "execute_result"
        }
      ],
      "source": [
        "df.head()"
      ]
    },
    {
      "cell_type": "markdown",
      "metadata": {
        "id": "JHjk2nUF-EmW"
      },
      "source": [
        "## The Stock Plot"
      ]
    },
    {
      "cell_type": "code",
      "execution_count": 5,
      "metadata": {
        "colab": {
          "base_uri": "https://localhost:8080/",
          "height": 634
        },
        "id": "YqANHDC14GIM",
        "outputId": "1343f081-9b1d-4cc6-dea3-81fbf5ec63fd"
      },
      "outputs": [
        {
          "data": {
            "image/png": "[encoded data removed]",
            "text/plain": [
              "<Figure size 1080x720 with 1 Axes>"
            ]
          },
          "metadata": {},
          "output_type": "display_data"
        }
      ],
      "source": [
        "sns.set_style(\"whitegrid\")\n",
        "plt.figure(figsize = (15,10))\n",
        "plt.plot(df[['Close']])\n",
        "plt.title(\"Amazon Stock Price\",fontsize=18) \n",
        "plt.xlabel('Date',fontsize=18)\n",
        "plt.ylabel('Close Price (USD)',fontsize=18)\n",
        "plt.show()"
      ]
    },
    {
      "cell_type": "code",
      "execution_count": 6,
      "metadata": {
        "colab": {
          "base_uri": "https://localhost:8080/"
        },
        "id": "eg38mzl24K0k",
        "outputId": "86bc9634-2343-46ea-e713-afe96f2cce83"
      },
      "outputs": [
        {
          "data": {
            "text/plain": [
              "Date      0\n",
              "Open      0\n",
              "High      0\n",
              "Low       0\n",
              "Close     0\n",
              "Volume    0\n",
              "Name      0\n",
              "dtype: int64"
            ]
          },
          "execution_count": 6,
          "metadata": {},
          "output_type": "execute_result"
        }
      ],
      "source": [
        "df.isnull().sum() # No Missing Values"
      ]
    },
    {
      "cell_type": "code",
      "execution_count": 7,
      "metadata": {
        "colab": {
          "base_uri": "https://localhost:8080/"
        },
        "id": "aUKnlm6J7Umt",
        "outputId": "16b2ae17-eaa9-406b-ab68-e01f560edaa9"
      },
      "outputs": [
        {
          "data": {
            "text/plain": [
              "21133"
            ]
          },
          "execution_count": 7,
          "metadata": {},
          "output_type": "execute_result"
        }
      ],
      "source": [
        "df.size # The Number of Stocks"
      ]
    },
    {
      "cell_type": "markdown",
      "metadata": {
        "id": "MeFflSSj99rQ"
      },
      "source": [
        "## Normalizing Data"
      ]
    },
    {
      "cell_type": "code",
      "execution_count": 8,
      "metadata": {
        "colab": {
          "base_uri": "https://localhost:8080/"
        },
        "id": "U4JkfKO57tga",
        "outputId": "3e595bb9-96b5-4af6-c8bf-3d894a0b917e"
      },
      "outputs": [
        {
          "name": "stdout",
          "output_type": "stream",
          "text": [
            "<class 'pandas.core.frame.DataFrame'>\n",
            "RangeIndex: 3019 entries, 0 to 3018\n",
            "Data columns (total 1 columns):\n",
            " #   Column  Non-Null Count  Dtype  \n",
            "---  ------  --------------  -----  \n",
            " 0   Close   3019 non-null   float64\n",
            "dtypes: float64(1)\n",
            "memory usage: 23.7 KB\n"
          ]
        }
      ],
      "source": [
        "price= df[['Close']] # For easy access of the Series within DataFrame\n",
        "price.info()"
      ]
    },
    {
      "cell_type": "code",
      "execution_count": 9,
      "metadata": {
        "id": "_0lHGNDP-7VL"
      },
      "outputs": [],
      "source": [
        "scaler = MinMaxScaler(feature_range=(-1, 1)) # MinMaxScaler used to Normalize Data b/w -1 to 1\n",
        "price['Close'] = scaler.fit_transform(price['Close'].values.reshape(-1,1)) "
      ]
    },
    {
      "cell_type": "code",
      "execution_count": 10,
      "metadata": {
        "id": "nPUX_ag2_JzU"
      },
      "outputs": [],
      "source": [
        "def split_data(price, seq): # Function to give the Training & Test Data Split \n",
        "    y = price.to_numpy() # convert to numpy array\n",
        "    x = []\n",
        "    \n",
        "    # Sequences of length 'seq'\n",
        "    for index in range(len(y) - seq): \n",
        "        x.append(y[index: index + seq])\n",
        "    \n",
        "    x = np.array(x);\n",
        "    test_set_size = int(np.round(0.2*x.shape[0])); # 20% of Data kept as Test Data\n",
        "    train_set_size = x.shape[0] - (test_set_size); # Remaining Data is kept as Training Data\n",
        "    \n",
        "    # In our case we take seq=20, so we take 0-18 as 19 elements for the X_Training Data and the 20th element i.e idx=19 as the Y_Training Data(Label)\n",
        "    # Similarily we do for the Test Data\n",
        "    x_train = x[:train_set_size,:-1,:] \n",
        "    y_train = x[:train_set_size,-1,:]\n",
        "    \n",
        "    x_test = x[train_set_size:,:-1]\n",
        "    y_test = x[train_set_size:,-1,:]\n",
        "    \n",
        "    return [x_train, y_train, x_test, y_test]"
      ]
    },
    {
      "cell_type": "code",
      "execution_count": 11,
      "metadata": {
        "colab": {
          "base_uri": "https://localhost:8080/"
        },
        "id": "HTA1hmW1BLxz",
        "outputId": "191bc652-576e-4892-d0e0-23e057b4d601"
      },
      "outputs": [
        {
          "name": "stdout",
          "output_type": "stream",
          "text": [
            "x_train.shape =  (2399, 19, 1)\n",
            "y_train.shape =  (2399, 1)\n",
            "x_test.shape =  (600, 19, 1)\n",
            "y_test.shape =  (600, 1)\n"
          ]
        }
      ],
      "source": [
        "seq = 20 # Sequence Length\n",
        "x_train, y_train, x_test, y_test = split_data(price, seq)\n",
        "print('x_train.shape = ',x_train.shape)\n",
        "print('y_train.shape = ',y_train.shape)\n",
        "print('x_test.shape = ',x_test.shape)\n",
        "print('y_test.shape = ',y_test.shape)"
      ]
    },
    {
      "cell_type": "code",
      "execution_count": 12,
      "metadata": {
        "id": "VNDJYT8pBURn"
      },
      "outputs": [],
      "source": [
        "# Conversion of the Numpy Variables to Tensors for the LSTM & GRU Model\n",
        "x_train = torch.from_numpy(x_train).type(torch.Tensor)\n",
        "x_test = torch.from_numpy(x_test).type(torch.Tensor)\n",
        "y_train_lstm = torch.from_numpy(y_train).type(torch.Tensor)\n",
        "y_test_lstm = torch.from_numpy(y_test).type(torch.Tensor)\n",
        "y_train_gru = torch.from_numpy(y_train).type(torch.Tensor)\n",
        "y_test_gru = torch.from_numpy(y_test).type(torch.Tensor)"
      ]
    },
    {
      "cell_type": "code",
      "execution_count": 13,
      "metadata": {
        "id": "oBTGuZXUBvl4"
      },
      "outputs": [],
      "source": [
        "input_dim = 1\n",
        "hidden_dim = 64\n",
        "num_layers = 3\n",
        "output_dim = 1\n",
        "num_epochs = 200"
      ]
    },
    {
      "cell_type": "markdown",
      "metadata": {},
      "source": [
        "## LSTM Model"
      ]
    },
    {
      "cell_type": "code",
      "execution_count": 14,
      "metadata": {
        "id": "IifxCYiiB_bZ"
      },
      "outputs": [],
      "source": [
        "class LSTM(nn.Module):\n",
        "    def __init__(self, input_dim, hidden_dim, num_layers, output_dim):\n",
        "        super(LSTM, self).__init__()\n",
        "        self.hidden_dim = hidden_dim # Number of Features in Hidden State\n",
        "        self.num_layers = num_layers # Number of Recurrent Layers i.e Number of LSTMs stacked together to form a Stacked LSTM\n",
        "        \n",
        "        # batch_first -> If True, then the input and output tensors are provided as (batch, seq, feature) instead of (seq, batch, feature).\n",
        "        self.lstm = nn.LSTM(input_dim, hidden_dim, num_layers, batch_first=True)\n",
        "        self.linear = nn.Linear(hidden_dim, output_dim)\n",
        "\n",
        "    def forward(self, x):\n",
        "        h0 = torch.zeros(self.num_layers, x.size(0), self.hidden_dim).requires_grad_()\n",
        "        c0 = torch.zeros(self.num_layers, x.size(0), self.hidden_dim).requires_grad_()\n",
        "        # 'Hidden State' & 'Cell State' are initialised to 0\n",
        "\n",
        "        out, (hn, cn) = self.lstm(x, (h0.detach(), c0.detach())) # .detach() Returns a new Tensor that doesn't require a gradient.\n",
        "        out = self.linear(out[:, -1, :]) \n",
        "        return out"
      ]
    },
    {
      "cell_type": "code",
      "execution_count": 15,
      "metadata": {
        "id": "SwmKSZXrCYL7"
      },
      "outputs": [],
      "source": [
        "model = LSTM(input_dim=input_dim, hidden_dim=hidden_dim, output_dim=output_dim, num_layers=num_layers)\n",
        "criterion = torch.nn.MSELoss(reduction='mean') # reduction='mean' divides the O/P with the number of elements\n",
        "optimiser = torch.optim.Adam(model.parameters(), lr=0.01)"
      ]
    },
    {
      "cell_type": "code",
      "execution_count": 16,
      "metadata": {
        "colab": {
          "base_uri": "https://localhost:8080/"
        },
        "id": "P8LABYXKNIno",
        "outputId": "c8cb8dd2-6689-4f88-c087-f99e4c854496"
      },
      "outputs": [
        {
          "name": "stdout",
          "output_type": "stream",
          "text": [
            "LSTM(\n",
            "  (lstm): LSTM(1, 64, num_layers=3, batch_first=True)\n",
            "  (linear): Linear(in_features=64, out_features=1, bias=True)\n",
            ")\n",
            "14\n",
            "torch.Size([256, 1])\n",
            "torch.Size([256, 64])\n",
            "torch.Size([256])\n",
            "torch.Size([256])\n",
            "torch.Size([256, 64])\n",
            "torch.Size([256, 64])\n",
            "torch.Size([256])\n",
            "torch.Size([256])\n",
            "torch.Size([256, 64])\n",
            "torch.Size([256, 64])\n",
            "torch.Size([256])\n",
            "torch.Size([256])\n",
            "torch.Size([1, 64])\n",
            "torch.Size([1])\n"
          ]
        }
      ],
      "source": [
        "print(model)\n",
        "print(len(list(model.parameters())))\n",
        "for i in range(len(list(model.parameters()))):\n",
        "    print(list(model.parameters())[i].size())"
      ]
    },
    {
      "cell_type": "code",
      "execution_count": 17,
      "metadata": {
        "colab": {
          "base_uri": "https://localhost:8080/"
        },
        "id": "VT9uqHbNCaaa",
        "outputId": "f978c046-2db3-4b6e-fbad-393cc13e9ae1"
      },
      "outputs": [
        {
          "name": "stdout",
          "output_type": "stream",
          "text": [
            "Epoch  0 MSE:  0.6754831671714783\n",
            "Epoch  1 MSE:  0.37003278732299805\n",
            "Epoch  2 MSE:  0.045930564403533936\n",
            "Epoch  3 MSE:  1.2094794511795044\n",
            "Epoch  4 MSE:  0.28375890851020813\n",
            "Epoch  5 MSE:  0.04190494865179062\n",
            "Epoch  6 MSE:  0.11976935714483261\n",
            "Epoch  7 MSE:  0.15937979519367218\n",
            "Epoch  8 MSE:  0.16475479304790497\n",
            "Epoch  9 MSE:  0.1548684984445572\n",
            "Epoch  10 MSE:  0.1390557438135147\n",
            "Epoch  11 MSE:  0.12119200825691223\n",
            "Epoch  12 MSE:  0.10278154909610748\n",
            "Epoch  13 MSE:  0.08455448597669601\n",
            "Epoch  14 MSE:  0.06724397093057632\n",
            "Epoch  15 MSE:  0.05214143171906471\n",
            "Epoch  16 MSE:  0.041915252804756165\n",
            "Epoch  17 MSE:  0.04187420755624771\n",
            "Epoch  18 MSE:  0.05212372913956642\n",
            "Epoch  19 MSE:  0.054115038365125656\n",
            "Epoch  20 MSE:  0.049064308404922485\n",
            "Epoch  21 MSE:  0.044036976993083954\n",
            "Epoch  22 MSE:  0.04133724421262741\n",
            "Epoch  23 MSE:  0.04056309908628464\n",
            "Epoch  24 MSE:  0.040843769907951355\n",
            "Epoch  25 MSE:  0.04150962457060814\n",
            "Epoch  26 MSE:  0.04215220361948013\n",
            "Epoch  27 MSE:  0.042562421411275864\n",
            "Epoch  28 MSE:  0.04266951233148575\n",
            "Epoch  29 MSE:  0.04249504208564758\n",
            "Epoch  30 MSE:  0.042116906493902206\n",
            "Epoch  31 MSE:  0.04163919761776924\n",
            "Epoch  32 MSE:  0.041166774928569794\n",
            "Epoch  33 MSE:  0.040785051882267\n",
            "Epoch  34 MSE:  0.04054630920290947\n",
            "Epoch  35 MSE:  0.040463887155056\n",
            "Epoch  36 MSE:  0.04051465913653374\n",
            "Epoch  37 MSE:  0.04064907133579254\n",
            "Epoch  38 MSE:  0.04080615192651749\n",
            "Epoch  39 MSE:  0.04092978686094284\n",
            "Epoch  40 MSE:  0.040981899946928024\n",
            "Epoch  41 MSE:  0.040949296206235886\n",
            "Epoch  42 MSE:  0.04084298387169838\n",
            "Epoch  43 MSE:  0.04069112613797188\n",
            "Epoch  44 MSE:  0.04052867367863655\n",
            "Epoch  45 MSE:  0.040387142449617386\n",
            "Epoch  46 MSE:  0.040287233889102936\n",
            "Epoch  47 MSE:  0.04023565351963043\n",
            "Epoch  48 MSE:  0.04022606834769249\n",
            "Epoch  49 MSE:  0.04024306684732437\n",
            "Epoch  50 MSE:  0.040267445147037506\n",
            "Epoch  51 MSE:  0.040281400084495544\n",
            "Epoch  52 MSE:  0.04027244448661804\n",
            "Epoch  53 MSE:  0.04023531451821327\n",
            "Epoch  54 MSE:  0.04017188027501106\n",
            "Epoch  55 MSE:  0.040089309215545654\n",
            "Epoch  56 MSE:  0.039997149258852005\n",
            "Epoch  57 MSE:  0.03990409895777702\n",
            "Epoch  58 MSE:  0.03981520235538483\n",
            "Epoch  59 MSE:  0.03972996398806572\n",
            "Epoch  60 MSE:  0.03964148089289665\n",
            "Epoch  61 MSE:  0.03953632339835167\n",
            "Epoch  62 MSE:  0.039394181221723557\n",
            "Epoch  63 MSE:  0.039185695350170135\n",
            "Epoch  64 MSE:  0.03886657953262329\n",
            "Epoch  65 MSE:  0.03837144002318382\n",
            "Epoch  66 MSE:  0.037650879472494125\n",
            "Epoch  67 MSE:  0.036848898977041245\n",
            "Epoch  68 MSE:  0.03599395602941513\n",
            "Epoch  69 MSE:  0.03423555567860603\n",
            "Epoch  70 MSE:  0.031414832919836044\n",
            "Epoch  71 MSE:  0.028460515663027763\n",
            "Epoch  72 MSE:  0.024118058383464813\n",
            "Epoch  73 MSE:  0.019233183935284615\n",
            "Epoch  74 MSE:  0.0150682358071208\n",
            "Epoch  75 MSE:  0.01354509498924017\n",
            "Epoch  76 MSE:  0.013985821977257729\n",
            "Epoch  77 MSE:  0.014328228309750557\n",
            "Epoch  78 MSE:  0.014577239751815796\n",
            "Epoch  79 MSE:  0.015142017044126987\n",
            "Epoch  80 MSE:  0.010879319161176682\n",
            "Epoch  81 MSE:  0.011217201128602028\n",
            "Epoch  82 MSE:  0.01545062568038702\n",
            "Epoch  83 MSE:  0.010457828640937805\n",
            "Epoch  84 MSE:  0.014236376620829105\n",
            "Epoch  85 MSE:  0.011262553744018078\n",
            "Epoch  86 MSE:  0.011901281774044037\n",
            "Epoch  87 MSE:  0.012553298845887184\n",
            "Epoch  88 MSE:  0.009084457531571388\n",
            "Epoch  89 MSE:  0.010885980911552906\n",
            "Epoch  90 MSE:  0.009237384423613548\n",
            "Epoch  91 MSE:  0.010431955568492413\n",
            "Epoch  92 MSE:  0.011311759240925312\n",
            "Epoch  93 MSE:  0.006996348034590483\n",
            "Epoch  94 MSE:  0.010555633343756199\n",
            "Epoch  95 MSE:  0.010835835710167885\n",
            "Epoch  96 MSE:  0.005956288892775774\n",
            "Epoch  97 MSE:  0.007119063287973404\n",
            "Epoch  98 MSE:  0.008174268528819084\n",
            "Epoch  99 MSE:  0.004386174958199263\n",
            "Epoch  100 MSE:  0.006867005489766598\n",
            "Epoch  101 MSE:  0.0056189922615885735\n",
            "Epoch  102 MSE:  0.0043472182005643845\n",
            "Epoch  103 MSE:  0.0063685025088489056\n",
            "Epoch  104 MSE:  0.003794111544266343\n",
            "Epoch  105 MSE:  0.00441728113219142\n",
            "Epoch  106 MSE:  0.004198804032057524\n",
            "Epoch  107 MSE:  0.0027196896262466908\n",
            "Epoch  108 MSE:  0.003853035857900977\n",
            "Epoch  109 MSE:  0.0025371338706463575\n",
            "Epoch  110 MSE:  0.0023601041175425053\n",
            "Epoch  111 MSE:  0.0028448118828237057\n",
            "Epoch  112 MSE:  0.001628353726118803\n",
            "Epoch  113 MSE:  0.002092216396704316\n",
            "Epoch  114 MSE:  0.001967532793059945\n",
            "Epoch  115 MSE:  0.0013199353124946356\n",
            "Epoch  116 MSE:  0.0019074283773079515\n",
            "Epoch  117 MSE:  0.0013157394714653492\n",
            "Epoch  118 MSE:  0.0012445850297808647\n",
            "Epoch  119 MSE:  0.0013905939413234591\n",
            "Epoch  120 MSE:  0.0007964344695210457\n",
            "Epoch  121 MSE:  0.0012193918228149414\n",
            "Epoch  122 MSE:  0.0006692135357297957\n",
            "Epoch  123 MSE:  0.000969145679846406\n",
            "Epoch  124 MSE:  0.0006441709119826555\n",
            "Epoch  125 MSE:  0.0009101491887122393\n",
            "Epoch  126 MSE:  0.000616720411926508\n",
            "Epoch  127 MSE:  0.0008845748961903155\n",
            "Epoch  128 MSE:  0.000571601849514991\n",
            "Epoch  129 MSE:  0.0008557948167435825\n",
            "Epoch  130 MSE:  0.0005175265832804143\n",
            "Epoch  131 MSE:  0.0007318000425584614\n",
            "Epoch  132 MSE:  0.00047578246449120343\n",
            "Epoch  133 MSE:  0.0006203060038387775\n",
            "Epoch  134 MSE:  0.00046640835353173316\n",
            "Epoch  135 MSE:  0.0005384720279835165\n",
            "Epoch  136 MSE:  0.00044883182272315025\n",
            "Epoch  137 MSE:  0.00047588517190888524\n",
            "Epoch  138 MSE:  0.0004263154696673155\n",
            "Epoch  139 MSE:  0.00041978986700996757\n",
            "Epoch  140 MSE:  0.00040782804717309773\n",
            "Epoch  141 MSE:  0.0003899485745932907\n",
            "Epoch  142 MSE:  0.0004067712288815528\n",
            "Epoch  143 MSE:  0.0003744295099750161\n",
            "Epoch  144 MSE:  0.0004048855334986001\n",
            "Epoch  145 MSE:  0.0003587526152841747\n",
            "Epoch  146 MSE:  0.0003927916695829481\n",
            "Epoch  147 MSE:  0.0003413503582123667\n",
            "Epoch  148 MSE:  0.00037501196493394673\n",
            "Epoch  149 MSE:  0.0003305081627331674\n",
            "Epoch  150 MSE:  0.00035994561039842665\n",
            "Epoch  151 MSE:  0.00032436713809147477\n",
            "Epoch  152 MSE:  0.0003424063033889979\n",
            "Epoch  153 MSE:  0.00031772401416674256\n",
            "Epoch  154 MSE:  0.00032151854247786105\n",
            "Epoch  155 MSE:  0.00031384569592773914\n",
            "Epoch  156 MSE:  0.0003053357941098511\n",
            "Epoch  157 MSE:  0.00031404668698087335\n",
            "Epoch  158 MSE:  0.0002968696062453091\n",
            "Epoch  159 MSE:  0.00030930369393900037\n",
            "Epoch  160 MSE:  0.0002939228434115648\n",
            "Epoch  161 MSE:  0.0002979665878228843\n",
            "Epoch  162 MSE:  0.0002948155452031642\n",
            "Epoch  163 MSE:  0.0002878667146433145\n",
            "Epoch  164 MSE:  0.0002935399825219065\n",
            "Epoch  165 MSE:  0.00028243797714821994\n",
            "Epoch  166 MSE:  0.0002856582577805966\n",
            "Epoch  167 MSE:  0.00028017538716085255\n",
            "Epoch  168 MSE:  0.000276397040579468\n",
            "Epoch  169 MSE:  0.00027863960713148117\n",
            "Epoch  170 MSE:  0.0002716721501201391\n",
            "Epoch  171 MSE:  0.0002736781316343695\n",
            "Epoch  172 MSE:  0.00027052583754993975\n",
            "Epoch  173 MSE:  0.0002675567229744047\n",
            "Epoch  174 MSE:  0.0002689664834178984\n",
            "Epoch  175 MSE:  0.0002646553621161729\n",
            "Epoch  176 MSE:  0.00026525527937337756\n",
            "Epoch  177 MSE:  0.00026386789977550507\n",
            "Epoch  178 MSE:  0.0002609231451060623\n",
            "Epoch  179 MSE:  0.0002615101111587137\n",
            "Epoch  180 MSE:  0.00025865656789392233\n",
            "Epoch  181 MSE:  0.00025758249103091657\n",
            "Epoch  182 MSE:  0.0002572837402112782\n",
            "Epoch  183 MSE:  0.00025465883663855493\n",
            "Epoch  184 MSE:  0.00025429422385059297\n",
            "Epoch  185 MSE:  0.0002531758800614625\n",
            "Epoch  186 MSE:  0.0002512390783522278\n",
            "Epoch  187 MSE:  0.0002511300554033369\n",
            "Epoch  188 MSE:  0.00024986863718368113\n",
            "Epoch  189 MSE:  0.0002484864089637995\n",
            "Epoch  190 MSE:  0.00024820544058457017\n",
            "Epoch  191 MSE:  0.0002468777820467949\n",
            "Epoch  192 MSE:  0.00024575938005000353\n",
            "Epoch  193 MSE:  0.00024537747958675027\n",
            "Epoch  194 MSE:  0.00024418040993623435\n",
            "Epoch  195 MSE:  0.0002431540488032624\n",
            "Epoch  196 MSE:  0.00024263220257125795\n",
            "Epoch  197 MSE:  0.00024154696438927203\n",
            "Epoch  198 MSE:  0.00024060228315647691\n",
            "Epoch  199 MSE:  0.0002400826633675024\n",
            "Training time: 160.38222074508667\n"
          ]
        }
      ],
      "source": [
        "import time\n",
        "\n",
        "hist = np.zeros(num_epochs)\n",
        "start_time = time.time()\n",
        "lstm = []\n",
        "\n",
        "for t in range(num_epochs):\n",
        "    y_train_pred = model(x_train)\n",
        "\n",
        "    loss = criterion(y_train_pred, y_train_lstm)\n",
        "    print(\"Epoch \", t, \"MSE: \", loss.item())\n",
        "    hist[t] = loss.item()\n",
        "\n",
        "    optimiser.zero_grad()\n",
        "    loss.backward()\n",
        "    optimiser.step()\n",
        "    \n",
        "training_time = time.time()-start_time\n",
        "print(\"Training time: {}\".format(training_time))"
      ]
    },
    {
      "cell_type": "code",
      "execution_count": 18,
      "metadata": {
        "id": "Nj8tI8tzCpot"
      },
      "outputs": [],
      "source": [
        "predict1 = pd.DataFrame(scaler.inverse_transform(y_train_pred.detach().numpy()))\n",
        "original1 = pd.DataFrame(scaler.inverse_transform(y_train_lstm.detach().numpy()))"
      ]
    },
    {
      "cell_type": "code",
      "execution_count": 19,
      "metadata": {
        "id": "LRkZewH6XVh_"
      },
      "outputs": [],
      "source": [
        "def calculate_accuracy(real, predict):\n",
        "    real = np.array(real) + 1\n",
        "    predict = np.array(predict) + 1\n",
        "    percentage = 1 - np.sqrt(np.mean(np.square((real - predict) / real)))\n",
        "    return percentage * 100"
      ]
    },
    {
      "cell_type": "code",
      "execution_count": 20,
      "metadata": {
        "colab": {
          "base_uri": "https://localhost:8080/",
          "height": 409
        },
        "id": "EVo4mV_ZCx3d",
        "outputId": "33b4dbc0-e56c-4ed0-cc6f-5fffed3e2071"
      },
      "outputs": [
        {
          "data": {
            "image/png": "[encoded data removed]",
            "text/plain": [
              "<Figure size 1152x432 with 2 Axes>"
            ]
          },
          "metadata": {},
          "output_type": "display_data"
        }
      ],
      "source": [
        "import seaborn as sns\n",
        "sns.set_style(\"darkgrid\")    \n",
        "\n",
        "fig = plt.figure()\n",
        "fig.subplots_adjust(hspace=0.2, wspace=0.2)\n",
        "\n",
        "plt.subplot(1, 2, 1)\n",
        "ax = sns.lineplot(x = original1.index, y = original1[0], label=\"Data\", color='royalblue')\n",
        "ax = sns.lineplot(x = predict1.index, y = predict1[0], label=\"Training Prediction (LSTM)\", color='tomato')\n",
        "ax.set_title('Stock price', size = 14, fontweight='bold')\n",
        "ax.set_xlabel(\"Days\", size = 14)\n",
        "ax.set_ylabel(\"Cost (USD)\", size = 14)\n",
        "ax.set_xticklabels('', size=10)\n",
        "\n",
        "\n",
        "plt.subplot(1, 2, 2)\n",
        "ax = sns.lineplot(data=hist, color='royalblue')\n",
        "ax.set_xlabel(\"Epoch\", size = 14)\n",
        "ax.set_ylabel(\"Loss\", size = 14)\n",
        "ax.set_title(\"Training Loss\", size = 14, fontweight='bold')\n",
        "fig.set_figheight(6)\n",
        "fig.set_figwidth(16)"
      ]
    },
    {
      "cell_type": "code",
      "execution_count": 21,
      "metadata": {
        "colab": {
          "base_uri": "https://localhost:8080/"
        },
        "id": "EwRsufFUXe1J",
        "outputId": "9f53b93a-5101-4c98-bd25-7f21f99863e6"
      },
      "outputs": [
        {
          "name": "stdout",
          "output_type": "stream",
          "text": [
            "93.97762902081013\n"
          ]
        }
      ],
      "source": [
        "print(calculate_accuracy(original1,predict1))"
      ]
    },
    {
      "cell_type": "markdown",
      "metadata": {
        "id": "ufEYbeObDJll"
      },
      "source": [
        "## GRU Model"
      ]
    },
    {
      "cell_type": "code",
      "execution_count": 22,
      "metadata": {
        "id": "4y20C8BmC0xd"
      },
      "outputs": [],
      "source": [
        "class GRU(nn.Module): # Gated Recurrent Unit\n",
        "    def __init__(self, input_dim, hidden_dim, num_layers, output_dim):\n",
        "        super(GRU, self).__init__()\n",
        "        self.hidden_dim = hidden_dim\n",
        "        self.num_layers = num_layers\n",
        "        \n",
        "        self.gru = nn.GRU(input_dim, hidden_dim, num_layers, batch_first=True)\n",
        "        self.fc = nn.Linear(hidden_dim, output_dim)\n",
        "\n",
        "    def forward(self, x):\n",
        "        h0 = torch.zeros(self.num_layers, x.size(0), self.hidden_dim).requires_grad_()\n",
        "        out, (hn) = self.gru(x, (h0.detach()))\n",
        "        out = self.fc(out[:, -1, :]) \n",
        "        return out"
      ]
    },
    {
      "cell_type": "code",
      "execution_count": 23,
      "metadata": {
        "id": "1VEYv4ecDD5g"
      },
      "outputs": [],
      "source": [
        "model = GRU(input_dim=input_dim, hidden_dim=hidden_dim, output_dim=output_dim, num_layers=num_layers)\n",
        "criterion = torch.nn.MSELoss(reduction='mean')\n",
        "optimiser = torch.optim.Adam(model.parameters(), lr=0.01)"
      ]
    },
    {
      "cell_type": "code",
      "execution_count": 24,
      "metadata": {
        "colab": {
          "base_uri": "https://localhost:8080/"
        },
        "id": "vaMoapU_NOZp",
        "outputId": "b883d81d-dcd4-4a13-bed8-a1083cac98e6"
      },
      "outputs": [
        {
          "name": "stdout",
          "output_type": "stream",
          "text": [
            "GRU(\n",
            "  (gru): GRU(1, 64, num_layers=3, batch_first=True)\n",
            "  (fc): Linear(in_features=64, out_features=1, bias=True)\n",
            ")\n",
            "14\n",
            "torch.Size([192, 1])\n",
            "torch.Size([192, 64])\n",
            "torch.Size([192])\n",
            "torch.Size([192])\n",
            "torch.Size([192, 64])\n",
            "torch.Size([192, 64])\n",
            "torch.Size([192])\n",
            "torch.Size([192])\n",
            "torch.Size([192, 64])\n",
            "torch.Size([192, 64])\n",
            "torch.Size([192])\n",
            "torch.Size([192])\n",
            "torch.Size([1, 64])\n",
            "torch.Size([1])\n"
          ]
        }
      ],
      "source": [
        "print(model)\n",
        "print(len(list(model.parameters())))\n",
        "for i in range(len(list(model.parameters()))):\n",
        "    print(list(model.parameters())[i].size())"
      ]
    },
    {
      "cell_type": "code",
      "execution_count": 25,
      "metadata": {
        "colab": {
          "base_uri": "https://localhost:8080/"
        },
        "id": "yu0Smi1HDF4y",
        "outputId": "a6874bca-251c-425f-a3ae-b69fe34abc7c"
      },
      "outputs": [
        {
          "name": "stdout",
          "output_type": "stream",
          "text": [
            "Epoch  0 MSE:  0.7529389262199402\n",
            "Epoch  1 MSE:  0.038811374455690384\n",
            "Epoch  2 MSE:  0.08389550447463989\n",
            "Epoch  3 MSE:  0.15101921558380127\n",
            "Epoch  4 MSE:  0.041568826884031296\n",
            "Epoch  5 MSE:  0.09245837479829788\n",
            "Epoch  6 MSE:  0.05780259519815445\n",
            "Epoch  7 MSE:  0.027558717876672745\n",
            "Epoch  8 MSE:  0.05111095681786537\n",
            "Epoch  9 MSE:  0.04804075509309769\n",
            "Epoch  10 MSE:  0.024737637490034103\n",
            "Epoch  11 MSE:  0.028269032016396523\n",
            "Epoch  12 MSE:  0.03841237351298332\n",
            "Epoch  13 MSE:  0.03210531920194626\n",
            "Epoch  14 MSE:  0.016351895406842232\n",
            "Epoch  15 MSE:  0.01566251739859581\n",
            "Epoch  16 MSE:  0.025432689115405083\n",
            "Epoch  17 MSE:  0.01123466994613409\n",
            "Epoch  18 MSE:  0.0052588097751140594\n",
            "Epoch  19 MSE:  0.01474657841026783\n",
            "Epoch  20 MSE:  0.008259882219135761\n",
            "Epoch  21 MSE:  0.0012663622619584203\n",
            "Epoch  22 MSE:  0.014555762521922588\n",
            "Epoch  23 MSE:  0.002213813830167055\n",
            "Epoch  24 MSE:  0.005488937720656395\n",
            "Epoch  25 MSE:  0.008147424086928368\n",
            "Epoch  26 MSE:  0.001597707043401897\n",
            "Epoch  27 MSE:  0.0018713722238317132\n",
            "Epoch  28 MSE:  0.005900271702557802\n",
            "Epoch  29 MSE:  0.0032874117605388165\n",
            "Epoch  30 MSE:  0.0015835928497835994\n",
            "Epoch  31 MSE:  0.0038644818123430014\n",
            "Epoch  32 MSE:  0.004334869794547558\n",
            "Epoch  33 MSE:  0.001831568544730544\n",
            "Epoch  34 MSE:  0.0010867191012948751\n",
            "Epoch  35 MSE:  0.0026899566873908043\n",
            "Epoch  36 MSE:  0.0017138421535491943\n",
            "Epoch  37 MSE:  0.00028724997537210584\n",
            "Epoch  38 MSE:  0.0016644822899252176\n",
            "Epoch  39 MSE:  0.0020277262665331364\n",
            "Epoch  40 MSE:  0.0006539923488162458\n",
            "Epoch  41 MSE:  0.0011316179297864437\n",
            "Epoch  42 MSE:  0.0016619371017441154\n",
            "Epoch  43 MSE:  0.0004892923170700669\n",
            "Epoch  44 MSE:  0.0005248369416221976\n",
            "Epoch  45 MSE:  0.0011457186192274094\n",
            "Epoch  46 MSE:  0.0006532530533149838\n",
            "Epoch  47 MSE:  0.00035160788684152067\n",
            "Epoch  48 MSE:  0.0009003525483421981\n",
            "Epoch  49 MSE:  0.0008101750281639397\n",
            "Epoch  50 MSE:  0.000352990668034181\n",
            "Epoch  51 MSE:  0.0005816450575366616\n",
            "Epoch  52 MSE:  0.0006838197004981339\n",
            "Epoch  53 MSE:  0.00028534396551549435\n",
            "Epoch  54 MSE:  0.00031580348149873316\n",
            "Epoch  55 MSE:  0.0005399202345870435\n",
            "Epoch  56 MSE:  0.0002927762398030609\n",
            "Epoch  57 MSE:  0.0002921160776168108\n",
            "Epoch  58 MSE:  0.00048695100122131407\n",
            "Epoch  59 MSE:  0.00030571589013561606\n",
            "Epoch  60 MSE:  0.00024367685546167195\n",
            "Epoch  61 MSE:  0.0003763534186873585\n",
            "Epoch  62 MSE:  0.00024052566732279956\n",
            "Epoch  63 MSE:  0.00019719343981705606\n",
            "Epoch  64 MSE:  0.00031011179089546204\n",
            "Epoch  65 MSE:  0.00023666412744205445\n",
            "Epoch  66 MSE:  0.0001989752781810239\n",
            "Epoch  67 MSE:  0.00028350276988931\n",
            "Epoch  68 MSE:  0.00022376120614353567\n",
            "Epoch  69 MSE:  0.00018297925998922437\n",
            "Epoch  70 MSE:  0.00023762007185723633\n",
            "Epoch  71 MSE:  0.0001900848001241684\n",
            "Epoch  72 MSE:  0.00016491484711878002\n",
            "Epoch  73 MSE:  0.00021322874817997217\n",
            "Epoch  74 MSE:  0.0001764955959515646\n",
            "Epoch  75 MSE:  0.00017099417163990438\n",
            "Epoch  76 MSE:  0.00020133952784817666\n",
            "Epoch  77 MSE:  0.0001640819973545149\n",
            "Epoch  78 MSE:  0.00016525456157978624\n",
            "Epoch  79 MSE:  0.00017870927695184946\n",
            "Epoch  80 MSE:  0.00014890616876073182\n",
            "Epoch  81 MSE:  0.00016081072681117803\n",
            "Epoch  82 MSE:  0.000165887366165407\n",
            "Epoch  83 MSE:  0.00014713611744809896\n",
            "Epoch  84 MSE:  0.0001607366430107504\n",
            "Epoch  85 MSE:  0.00015611815615557134\n",
            "Epoch  86 MSE:  0.0001438623439753428\n",
            "Epoch  87 MSE:  0.0001540722296340391\n",
            "Epoch  88 MSE:  0.00014444702537730336\n",
            "Epoch  89 MSE:  0.00014111622294876724\n",
            "Epoch  90 MSE:  0.00014848378486931324\n",
            "Epoch  91 MSE:  0.00013922691869083792\n",
            "Epoch  92 MSE:  0.00014237311552278697\n",
            "Epoch  93 MSE:  0.0001433187280781567\n",
            "Epoch  94 MSE:  0.00013603414117824286\n",
            "Epoch  95 MSE:  0.00014020930393598974\n",
            "Epoch  96 MSE:  0.00013636850053444505\n",
            "Epoch  97 MSE:  0.00013400767056737095\n",
            "Epoch  98 MSE:  0.00013713388761971146\n",
            "Epoch  99 MSE:  0.00013273632794152945\n",
            "Epoch  100 MSE:  0.00013402702461462468\n",
            "Epoch  101 MSE:  0.00013391271932050586\n",
            "Epoch  102 MSE:  0.00013065911480225623\n",
            "Epoch  103 MSE:  0.00013238232349976897\n",
            "Epoch  104 MSE:  0.0001299049035878852\n",
            "Epoch  105 MSE:  0.0001292375090997666\n",
            "Epoch  106 MSE:  0.00012992601841688156\n",
            "Epoch  107 MSE:  0.00012766240979544818\n",
            "Epoch  108 MSE:  0.00012857637193519622\n",
            "Epoch  109 MSE:  0.00012745626736432314\n",
            "Epoch  110 MSE:  0.00012643665832001716\n",
            "Epoch  111 MSE:  0.00012677277845796198\n",
            "Epoch  112 MSE:  0.00012507050996646285\n",
            "Epoch  113 MSE:  0.00012526896898634732\n",
            "Epoch  114 MSE:  0.0001245979656232521\n",
            "Epoch  115 MSE:  0.00012380705447867513\n",
            "Epoch  116 MSE:  0.0001239845878444612\n",
            "Epoch  117 MSE:  0.00012284568219911307\n",
            "Epoch  118 MSE:  0.00012276461347937584\n",
            "Epoch  119 MSE:  0.00012214317393954843\n",
            "Epoch  120 MSE:  0.00012145315849920735\n",
            "Epoch  121 MSE:  0.00012136447185184807\n",
            "Epoch  122 MSE:  0.00012053387035848573\n",
            "Epoch  123 MSE:  0.0001204047875944525\n",
            "Epoch  124 MSE:  0.00011986216122750193\n",
            "Epoch  125 MSE:  0.00011936451483052224\n",
            "Epoch  126 MSE:  0.0001191030751215294\n",
            "Epoch  127 MSE:  0.00011842652747873217\n",
            "Epoch  128 MSE:  0.00011820312647614628\n",
            "Epoch  129 MSE:  0.00011766190436901525\n",
            "Epoch  130 MSE:  0.00011729187826858833\n",
            "Epoch  131 MSE:  0.00011695211287587881\n",
            "Epoch  132 MSE:  0.00011644029291346669\n",
            "Epoch  133 MSE:  0.00011616550182225183\n",
            "Epoch  134 MSE:  0.00011565018212422729\n",
            "Epoch  135 MSE:  0.00011531933705555275\n",
            "Epoch  136 MSE:  0.00011490856559248641\n",
            "Epoch  137 MSE:  0.00011450050806161016\n",
            "Epoch  138 MSE:  0.00011417858331697062\n",
            "Epoch  139 MSE:  0.0001137344806920737\n",
            "Epoch  140 MSE:  0.00011342096695443615\n",
            "Epoch  141 MSE:  0.00011299651669105515\n",
            "Epoch  142 MSE:  0.00011264466593274847\n",
            "Epoch  143 MSE:  0.00011227296636207029\n",
            "Epoch  144 MSE:  0.00011188907228643075\n",
            "Epoch  145 MSE:  0.00011155797983519733\n",
            "Epoch  146 MSE:  0.00011116522364318371\n",
            "Epoch  147 MSE:  0.00011083848949056119\n",
            "Epoch  148 MSE:  0.00011045831342926249\n",
            "Epoch  149 MSE:  0.00011011653987225145\n",
            "Epoch  150 MSE:  0.0001097616768674925\n",
            "Epoch  151 MSE:  0.00010940719221252948\n",
            "Epoch  152 MSE:  0.00010907477553701028\n",
            "Epoch  153 MSE:  0.0001087181008188054\n",
            "Epoch  154 MSE:  0.00010839420428965241\n",
            "Epoch  155 MSE:  0.00010804252815432847\n",
            "Epoch  156 MSE:  0.00010771642701001838\n",
            "Epoch  157 MSE:  0.00010737706179497764\n",
            "Epoch  158 MSE:  0.00010704894521040842\n",
            "Epoch  159 MSE:  0.00010672348435036838\n",
            "Epoch  160 MSE:  0.00010639514948707074\n",
            "Epoch  161 MSE:  0.00010607914737192914\n",
            "Epoch  162 MSE:  0.00010575344640528783\n",
            "Epoch  163 MSE:  0.00010544266842771322\n",
            "Epoch  164 MSE:  0.00010512234439374879\n",
            "Epoch  165 MSE:  0.00010481478966539726\n",
            "Epoch  166 MSE:  0.00010450249828863889\n",
            "Epoch  167 MSE:  0.00010419791215099394\n",
            "Epoch  168 MSE:  0.00010389285307610407\n",
            "Epoch  169 MSE:  0.00010359039879404008\n",
            "Epoch  170 MSE:  0.00010329135693609715\n",
            "Epoch  171 MSE:  0.00010299216228304431\n",
            "Epoch  172 MSE:  0.00010269881022395566\n",
            "Epoch  173 MSE:  0.00010240398842142895\n",
            "Epoch  174 MSE:  0.0001021155621856451\n",
            "Epoch  175 MSE:  0.00010182563710259274\n",
            "Epoch  176 MSE:  0.00010154143092222512\n",
            "Epoch  177 MSE:  0.00010125634435098618\n",
            "Epoch  178 MSE:  0.00010097611811943352\n",
            "Epoch  179 MSE:  0.00010069633572129533\n",
            "Epoch  180 MSE:  0.00010042038047686219\n",
            "Epoch  181 MSE:  0.0001001456766971387\n",
            "Epoch  182 MSE:  9.98737450572662e-05\n",
            "Epoch  183 MSE:  9.960377064999193e-05\n",
            "Epoch  184 MSE:  9.933587716659531e-05\n",
            "Epoch  185 MSE:  9.907044295687228e-05\n",
            "Epoch  186 MSE:  9.880668949335814e-05\n",
            "Epoch  187 MSE:  9.854565723799169e-05\n",
            "Epoch  188 MSE:  9.828606562223285e-05\n",
            "Epoch  189 MSE:  9.802915883483365e-05\n",
            "Epoch  190 MSE:  9.777346713235602e-05\n",
            "Epoch  191 MSE:  9.752042387844995e-05\n",
            "Epoch  192 MSE:  9.726861026138067e-05\n",
            "Epoch  193 MSE:  9.701929229777306e-05\n",
            "Epoch  194 MSE:  9.677124035079032e-05\n",
            "Epoch  195 MSE:  9.652552398620173e-05\n",
            "Epoch  196 MSE:  9.628107363823801e-05\n",
            "Epoch  197 MSE:  9.603874786989763e-05\n",
            "Epoch  198 MSE:  9.579776087775826e-05\n",
            "Epoch  199 MSE:  9.555876749800518e-05\n",
            "Training time: 125.1201810836792\n"
          ]
        }
      ],
      "source": [
        "hist = np.zeros(num_epochs)\n",
        "start_time = time.time()\n",
        "gru = []\n",
        "\n",
        "for t in range(num_epochs):\n",
        "    y_train_pred = model(x_train)\n",
        "\n",
        "    loss = criterion(y_train_pred, y_train_gru)\n",
        "    print(\"Epoch \", t, \"MSE: \", loss.item())\n",
        "    hist[t] = loss.item()\n",
        "\n",
        "    optimiser.zero_grad()\n",
        "    loss.backward()\n",
        "    optimiser.step()\n",
        "\n",
        "training_time = time.time()-start_time    \n",
        "print(\"Training time: {}\".format(training_time))"
      ]
    },
    {
      "cell_type": "code",
      "execution_count": 26,
      "metadata": {
        "id": "rtOBS-TCDHxx"
      },
      "outputs": [],
      "source": [
        "predict2 = pd.DataFrame(scaler.inverse_transform(y_train_pred.detach().numpy()))\n",
        "original2 = pd.DataFrame(scaler.inverse_transform(y_train_gru.detach().numpy()))"
      ]
    },
    {
      "cell_type": "code",
      "execution_count": 27,
      "metadata": {
        "colab": {
          "base_uri": "https://localhost:8080/",
          "height": 409
        },
        "id": "qbT-NIKTDOoD",
        "outputId": "157b9c31-a822-4942-c98e-fa19e42281ed"
      },
      "outputs": [
        {
          "data": {
            "image/png": "[encoded data removed]",
            "text/plain": [
              "<Figure size 1152x432 with 2 Axes>"
            ]
          },
          "metadata": {},
          "output_type": "display_data"
        }
      ],
      "source": [
        "import seaborn as sns\n",
        "sns.set_style(\"darkgrid\")    \n",
        "\n",
        "fig = plt.figure()\n",
        "fig.subplots_adjust(hspace=0.2, wspace=0.2)\n",
        "\n",
        "plt.subplot(1, 2, 1)\n",
        "ax = sns.lineplot(x = original2.index, y = original2[0], label=\"Data\", color='royalblue')\n",
        "ax = sns.lineplot(x = predict2.index, y = predict2[0], label=\"Training Prediction (GRU)\", color='tomato')\n",
        "ax.set_title('Stock price', size = 14, fontweight='bold')\n",
        "ax.set_xlabel(\"Days\", size = 14)\n",
        "ax.set_ylabel(\"Cost (USD)\", size = 14)\n",
        "\n",
        "\n",
        "plt.subplot(1, 2, 2)\n",
        "ax = sns.lineplot(data=hist, color='royalblue')\n",
        "ax.set_xlabel(\"Epoch\", size = 14)\n",
        "ax.set_ylabel(\"Loss\", size = 14)\n",
        "ax.set_title(\"Training Loss\", size = 14, fontweight='bold')\n",
        "fig.set_figheight(6)\n",
        "fig.set_figwidth(16)"
      ]
    },
    {
      "cell_type": "code",
      "execution_count": 28,
      "metadata": {
        "colab": {
          "base_uri": "https://localhost:8080/"
        },
        "id": "W4-SwCdmDQm-",
        "outputId": "ff3a8a83-b206-4955-afe3-d2e6967a614e"
      },
      "outputs": [
        {
          "name": "stdout",
          "output_type": "stream",
          "text": [
            "96.44177630543709\n"
          ]
        }
      ],
      "source": [
        "print(calculate_accuracy(original2,predict2))"
      ]
    },
    {
      "cell_type": "code",
      "execution_count": 30,
      "metadata": {
        "id": "sn07wCzTYxqk"
      },
      "outputs": [],
      "source": [
        "## Accuracies with the 2 Models\n",
        "# LSTM -> 93.98%\n",
        "# GRU  -> 96.44%"
      ]
    }
  ],
  "metadata": {
    "accelerator": "GPU",
    "colab": {
      "collapsed_sections": [],
      "name": "Amazon_Stock_Prediction.ipynb",
      "provenance": []
    },
    "gpuClass": "standard",
    "kernelspec": {
      "display_name": "Python 3",
      "name": "python3"
    },
    "language_info": {
      "name": "python"
    }
  },
  "nbformat": 4,
  "nbformat_minor": 0
}
